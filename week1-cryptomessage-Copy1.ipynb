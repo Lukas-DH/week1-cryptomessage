{
 "cells": [
  {
   "cell_type": "code",
   "execution_count": 7,
   "metadata": {},
   "outputs": [],
   "source": [
    "import getpass\n",
    "\n",
    "class CryptoMsg:\n",
    "           \n",
    "    def __init__(self , username = 'user', password = '1234'):\n",
    "        \n",
    "        \n",
    "        self.sent_messages = [] #sender message lists\n",
    "        self.recieved_messages = [] #recieved messages\n",
    "        self.set_username() #encryption access username\n",
    "        self.set_password() #encryption access password\n",
    "        \n",
    "    def set_username(self):\n",
    "        #seting the user name\n",
    "        self.username = input('what is your username: ')\n",
    "            \n",
    "    def set_password(self):\n",
    "        #setting the password\n",
    "        self.password = getpass.getpass('Password :: ') \n",
    "        \n",
    "    def Encrypt(self, x) :\n",
    "        #encrypts the my_msg input\n",
    "        self.x = x\n",
    "        first_char = [i[0] for i in x.split(' ')] #get the first letter of the word in a list\n",
    "        remaining_char = [i[1:(len(i))] for i in x.split(' ')] #get the remaining_char\n",
    "        reverse = [i[::-1] for i in remaining_char] #get the inverse of the remaining char\n",
    "        encode = [(reverse[i] + 'wp' + first_char[i]) for i in range(len(first_char))] #put everything together\n",
    "        return ' '.join(encode)\n",
    "    \n",
    "    def Decrypt(self, y):\n",
    "        self.y = y\n",
    "        ls = y.replace('wp', '').split(' ')\n",
    "        last_letter = [i[len(i)-1] for i in ls]\n",
    "        decode = [i[::-1] for i in ls]\n",
    "        return ' '.join(decode)\n",
    "\n",
    "    def recipient(self, msg_recipient):\n",
    "        #barky.theonlybuddy=zippy\n",
    "        self.recipient = msg_recipient\n",
    "\n",
    "    def my_msg(self, recipient):\n",
    "        #intended msg and to which recipient it goes\n",
    "        print(f'Hello {self.username}, please enter your secret message to {recipient.username} below')\n",
    "        x = getpass.getpass(f'{self.username} ==> {recipient.username}:') + '\\n' + f'{self.username}'\n",
    "#         x = self.Encrypt(x)\n",
    "        self.sent_messages.append(self.Encrypt(x))\n",
    "        recipient.recieved_messages.append(self.Encrypt(x))\n",
    "        print(f'your message has been encrypted \\n {self.Encrypt(x)}')\n",
    "        \n",
    "        \n",
    "    def read_my_msg(self):\n",
    "        if getpass.getpass(f'Hello {self.username}, please enter your password') == self.password:\n",
    "            print(f'Hi {self.username}!, you have {len(self.recieved_messages)} secret message(s)')\n",
    "#             print(\"You have\", {len(self.recieved_messages)}, \"message(s)\")\n",
    "            count = 1\n",
    "            for i in self.recieved_messages :\n",
    "                print(f'message {count} is: ')\n",
    "                count += 1\n",
    "                print(self.Decrypt(i))\n",
    "            return \n",
    "            \n",
    "        else:\n",
    "            print(\"\"\"WARNING, WARNING!!!\n",
    "                    intruder alert! intruder alert\"\"\" )\n",
    "            "
   ]
  },
  {
   "cell_type": "code",
   "execution_count": 2,
   "metadata": {},
   "outputs": [
    {
     "name": "stdout",
     "output_type": "stream",
     "text": [
      "what is your username: 007\n",
      "Password :: ········\n"
     ]
    }
   ],
   "source": [
    "user1 = CryptoMsg()\n"
   ]
  },
  {
   "cell_type": "code",
   "execution_count": 3,
   "metadata": {},
   "outputs": [
    {
     "name": "stdout",
     "output_type": "stream",
     "text": [
      "what is your username: Money Penny\n",
      "Password :: ········\n"
     ]
    }
   ],
   "source": [
    "user2 = CryptoMsg()"
   ]
  },
  {
   "cell_type": "code",
   "execution_count": 4,
   "metadata": {},
   "outputs": [
    {
     "name": "stdout",
     "output_type": "stream",
     "text": [
      "Hello 007, please enter your secret message to Money Penny below\n",
      "007 ==> Money Penny:········\n",
      "your message has been encrypted /n eviwpg ewpm emowps ennoB\n",
      "raguwps etnawpS 70wp0\n"
     ]
    }
   ],
   "source": [
    "user1.my_msg(user2)"
   ]
  },
  {
   "cell_type": "code",
   "execution_count": 5,
   "metadata": {},
   "outputs": [
    {
     "data": {
      "text/plain": [
       "['eviwpg ewpm emowps ennoB\\nraguwps etnawpS 70wp0']"
      ]
     },
     "execution_count": 5,
     "metadata": {},
     "output_type": "execute_result"
    }
   ],
   "source": [
    "user2.recieved_messages"
   ]
  },
  {
   "cell_type": "code",
   "execution_count": 6,
   "metadata": {},
   "outputs": [
    {
     "name": "stdout",
     "output_type": "stream",
     "text": [
      "Hello Money Penny, please enter your password········\n",
      "Hi Money Penny!, you have 1 secret message(s)\n",
      "message 1 is: \n",
      "give me some sugar\n",
      "Bonne Sante 007\n"
     ]
    }
   ],
   "source": [
    "user2.read_my_msg()"
   ]
  },
  {
   "cell_type": "code",
   "execution_count": null,
   "metadata": {},
   "outputs": [],
   "source": [
    "def crypto_messenger():\n",
    "    print('hi, welcome to crypto_messenger. The cryptiest messenger at IRONHACK.')\n",
    "    print('user1:')\n",
    "    user1 = CryptoMsg()\n",
    "    print('user2:')\n",
    "    user2 = CryptoMsg()\n",
    "    user1.my_msg(user2)\n",
    "    for i in user1.sent_messages :\n",
    "        print(user1.username, \"said :\", i)\n",
    "    print(\"You have\", len(user2.recieved_messages), \"message(s)\")\n",
    "    check = input(\"write or read messages ?\")\n",
    "    if check == \"write\" :\n",
    "        user2.my_msg(user2)\n",
    "    elif check == \"read\" :\n",
    "        for i in user2.recieved_messages :\n",
    "            print(user2.username, \"said:\", i)"
   ]
  },
  {
   "cell_type": "code",
   "execution_count": null,
   "metadata": {},
   "outputs": [],
   "source": [
    "crypto_messenger()"
   ]
  },
  {
   "cell_type": "code",
   "execution_count": null,
   "metadata": {},
   "outputs": [],
   "source": [
    "myName = input()\n",
    "print(\"\\x1B[F\\x1B[2K\", end=\"\")\n",
    "print(\"My name is:\" + myName)"
   ]
  },
  {
   "cell_type": "code",
   "execution_count": null,
   "metadata": {},
   "outputs": [],
   "source": [
    "stdiomask.getpass()"
   ]
  },
  {
   "cell_type": "code",
   "execution_count": null,
   "metadata": {},
   "outputs": [],
   "source": [
    "import getpass\n",
    "key = getpass.getpass('Password :: ')"
   ]
  },
  {
   "cell_type": "code",
   "execution_count": null,
   "metadata": {},
   "outputs": [],
   "source": [
    "key"
   ]
  },
  {
   "cell_type": "code",
   "execution_count": null,
   "metadata": {},
   "outputs": [],
   "source": []
  },
  {
   "cell_type": "code",
   "execution_count": null,
   "metadata": {},
   "outputs": [],
   "source": [
    "def crypto_messenger():\n",
    "    users = []\n",
    "    for _ in range(500):\n",
    "        user = Car('ford', 'focus', 2016)     gas_fleet.append(car)\n",
    "    print('hi, welcome to crypto_messenger. The cryptiest messenger at IRONHACK.')\n",
    "    x = input()\n",
    "    y = input()\n",
    "    user1 = CryptoMsg(x)\n",
    "    user2 = CryptoMsg(y)\n",
    "\n",
    "\n",
    "    "
   ]
  },
  {
   "cell_type": "code",
   "execution_count": null,
   "metadata": {},
   "outputs": [],
   "source": [
    "crypto_messenger()"
   ]
  },
  {
   "cell_type": "code",
   "execution_count": null,
   "metadata": {},
   "outputs": [],
   "source": [
    "gas_fleet = []\n",
    "\n",
    "for i in range(2):\n",
    "    ui = CryptoMsg('ford')\n",
    "    gas_fleet.append(ui)"
   ]
  },
  {
   "cell_type": "code",
   "execution_count": null,
   "metadata": {},
   "outputs": [],
   "source": [
    "ui.username"
   ]
  },
  {
   "cell_type": "code",
   "execution_count": null,
   "metadata": {},
   "outputs": [],
   "source": [
    "0.username()"
   ]
  },
  {
   "cell_type": "code",
   "execution_count": null,
   "metadata": {},
   "outputs": [],
   "source": [
    "def Encrypt(x) :\n",
    "    #encrypts the my_msg input\n",
    "    first_char = [i[0] for i in x.split(' ')] #get the first letter of the word in a list\n",
    "    remaining_char = [i[1:(len(i))] for i in x.split(' ')] #get the remaining_char\n",
    "    reverse = [i[::-1] for i in remaining_char] #get the inverse of the remaining char\n",
    "    encode = [(reverse[i] + 'wp' + first_char[i]) for i in range(len(first_char))] #put everything together\n",
    "    return ' '.join(encode)\n",
    "\n"
   ]
  },
  {
   "cell_type": "code",
   "execution_count": null,
   "metadata": {},
   "outputs": [],
   "source": [
    "x = \"whats the name?\"\n",
    "y = Encrypt(x)\n",
    "y"
   ]
  },
  {
   "cell_type": "code",
   "execution_count": null,
   "metadata": {},
   "outputs": [],
   "source": [
    "def Decrypt(y):\n",
    "    ls = y.replace('wp', '').split(' ')\n",
    "    last_letter = [i[len(i)-1] for i in ls]\n",
    "    decode = [i[::-1] for i in ls]\n",
    "    return ' '.join(decode)\n",
    "\n"
   ]
  },
  {
   "cell_type": "code",
   "execution_count": null,
   "metadata": {},
   "outputs": [],
   "source": [
    "Decrypt(y)"
   ]
  },
  {
   "cell_type": "code",
   "execution_count": null,
   "metadata": {},
   "outputs": [],
   "source": [
    "class Dog:\n",
    "    \n",
    "    #global value for all the objects of this class that doesn't change\n",
    "    number_of_legs=4\n",
    "    species='mammals'\n",
    "    level_of_danger=1\n",
    "    \n",
    "    def __init__(self,name,age,lod=level_of_danger):\n",
    "        self.name=name\n",
    "        self.age=age\n",
    "        self.enemies=list()\n",
    "        self.fights=dict()\n",
    "        self.level_of_danger_current=lod\n",
    "        self.level_of_danger_default=lod\n",
    "    \n",
    "    def voice(self):\n",
    "        print('Bark! Bark!')\n",
    "        \n",
    "    def birthday(self):\n",
    "        self.age+=1\n",
    "        print(f'Happy birthday {self.name}. You are {self.age} now!')\n",
    "        \n",
    "    def set_buddy(self, buddy):\n",
    "        #barky.theonlybuddy=zippy\n",
    "        self.theonlybuddy=buddy\n",
    "        #zippy.theonlybuddy=barky\n",
    "        buddy.theonlybuddy=self\n",
    "        \n",
    "    def fight_club(self, enemy):\n",
    "        if self.number_of_legs==0:\n",
    "            return f\"Desole! {self.name} can't even move. If you want to continue participating in our fight club, you can buy a new dog in our online shop \"\n",
    "        \n",
    "        elif enemy in self.enemies:\n",
    "            self.fights[enemy]+=1\n",
    "            enemy.fights[self]+=1\n",
    "            \n",
    "            if self.level_of_danger_current>enemy.level_of_danger_current*2:\n",
    "                enemy.chop_leg()\n",
    "            elif enemy.level_of_danger_current>self.level_of_danger_current*2:\n",
    "                self.chop_leg()\n",
    "            self.level_of_danger_current=self.level_of_danger_default+sum(self.fights.values())//2\n",
    "            enemy.level_of_danger_current=enemy.level_of_danger_default+sum(enemy.fights.values())//2\n",
    "            if self.level_of_danger_current>8:\n",
    "                self.chop_leg()\n",
    "                self.level_of_danger_current=5\n",
    "\n",
    "            print('Gosh! He is doing it again!')\n",
    "            \n",
    "            \n",
    "        else:\n",
    "            self.enemies.append(enemy)\n",
    "            enemy.enemies.append(self)\n",
    "            self.fights[enemy]=1\n",
    "            enemy.fights[self]=1\n",
    "            if self.level_of_danger_current>enemy.level_of_danger_current*2:\n",
    "                enemy.chop_leg()\n",
    "            elif enemy.level_of_danger_current>self.level_of_danger_current*2:\n",
    "                self.chop_leg()\n",
    "    \n",
    "    def chop_leg(self):\n",
    "        self.number_of_legs=max(0,self.number_of_legs-1)\n",
    "        "
   ]
  },
  {
   "cell_type": "code",
   "execution_count": null,
   "metadata": {},
   "outputs": [],
   "source": []
  },
  {
   "cell_type": "code",
   "execution_count": null,
   "metadata": {},
   "outputs": [],
   "source": [
    "barky = Dog('Barky',2)"
   ]
  },
  {
   "cell_type": "code",
   "execution_count": null,
   "metadata": {},
   "outputs": [],
   "source": [
    "zippy = Dog('Zippy', 3)"
   ]
  },
  {
   "cell_type": "code",
   "execution_count": null,
   "metadata": {},
   "outputs": [],
   "source": [
    "barky.set_buddy(zippy)"
   ]
  },
  {
   "cell_type": "code",
   "execution_count": null,
   "metadata": {},
   "outputs": [],
   "source": [
    "barky.theonlybuddy.name"
   ]
  },
  {
   "cell_type": "code",
   "execution_count": null,
   "metadata": {},
   "outputs": [],
   "source": [
    "Barky.theonlybuddy(\n",
    "barky.set_buddy(zippy))"
   ]
  },
  {
   "cell_type": "code",
   "execution_count": null,
   "metadata": {},
   "outputs": [],
   "source": [
    "x = 'hello I am lukas'\n",
    "\n",
    "[i[0] for i in x.split(' ')]\n",
    "        \n",
    "    "
   ]
  },
  {
   "cell_type": "code",
   "execution_count": null,
   "metadata": {},
   "outputs": [],
   "source": [
    "def Encrypt(x) :\n",
    "    first_letter = [i[0] for i in x.split(' ')] #get the first letter of the word in a list\n",
    "    reverse_word = [i[1:(len(i))] for i in x.split(' ')] #get the reverse of the end of the word in a list\n",
    "    encode = [(reverse_word[i] + first_letter[i] + 'ay') for i in range(len(first_letter))] #put everything together\n",
    "    return ' '.join(encode)\n",
    "Encrypt('this is my new sentence')"
   ]
  },
  {
   "cell_type": "code",
   "execution_count": null,
   "metadata": {},
   "outputs": [],
   "source": []
  },
  {
   "cell_type": "code",
   "execution_count": null,
   "metadata": {},
   "outputs": [],
   "source": [
    "import getpass \n",
    "  \n",
    "try: \n",
    "    p = getpass.getpass() \n",
    "except Exception as error: \n",
    "    print('ERROR', error) \n",
    "else: \n",
    "    print('Password entered:', p) "
   ]
  },
  {
   "cell_type": "code",
   "execution_count": null,
   "metadata": {},
   "outputs": [],
   "source": [
    "def Encrypt(x) :\n",
    "    #Idea : put a condition - the function will run if the user's password is correct\n",
    "    #If not : the encrypted message will be returned\n",
    "    first_char = [i[0] for i in x.split(' ')] #get the first letter of the word in a list\n",
    "    remaining_char = [i[1:(len(i))] for i in x.split(' ')] #get the remaining_char\n",
    "    reverse = [i[::-1] for i in remaining_char] #get the inverse of the remaining char\n",
    "    encode = [(reverse[i] + 'wp' + first_char[i]) for i in range(len(first_char))] #put everything together\n",
    "    return ' '.join(encode)\n",
    "Encrypt('i am trying to encode this text')"
   ]
  },
  {
   "cell_type": "code",
   "execution_count": null,
   "metadata": {},
   "outputs": [],
   "source": [
    "def Decrypt(y):\n",
    "    ls = y.replace('wp', '').split(' ')\n",
    "    last_letter = [i[len(i)-1] for i in ls]\n",
    "    decode = [i[::-1] for i in ls]\n",
    "    return ' '.join(decode)\n",
    "Decrypt('wpi mwpa gniyrwpt owpt edocnwpe sihwpt txewpt')"
   ]
  },
  {
   "cell_type": "code",
   "execution_count": null,
   "metadata": {},
   "outputs": [],
   "source": []
  }
 ],
 "metadata": {
  "kernelspec": {
   "display_name": "Python 3",
   "language": "python",
   "name": "python3"
  },
  "language_info": {
   "codemirror_mode": {
    "name": "ipython",
    "version": 3
   },
   "file_extension": ".py",
   "mimetype": "text/x-python",
   "name": "python",
   "nbconvert_exporter": "python",
   "pygments_lexer": "ipython3",
   "version": "3.7.4"
  }
 },
 "nbformat": 4,
 "nbformat_minor": 4
}
