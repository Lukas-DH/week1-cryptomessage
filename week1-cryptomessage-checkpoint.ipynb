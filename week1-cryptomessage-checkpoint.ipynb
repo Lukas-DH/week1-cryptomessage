{
 "cells": [
  {
   "cell_type": "code",
   "execution_count": 1,
   "metadata": {},
   "outputs": [],
   "source": [
    "import cryptography"
   ]
  },
  {
   "cell_type": "code",
   "execution_count": 11,
   "metadata": {},
   "outputs": [],
   "source": [
    "class CryptoMsg:\n",
    "    \n",
    "    #global value for all the objects of this class that doesn't change\n",
    "        \n",
    "    def __init__(self , name, username = 'user', password = '1234'):\n",
    "        self.name = name\n",
    "        self.sent_messages = []\n",
    "        self.recieved_messages = []\n",
    "        self.set_username()\n",
    "        self.set_password()\n",
    "        \n",
    "    def set_username(self):\n",
    "          self.username = input('what is your username: ')\n",
    "            \n",
    "    def set_password(self):\n",
    "          self.password = input('what is your password: ')\n",
    "    \n",
    "    def Encrypt(x) :\n",
    "        #Idea : put a condition - the function will run if the user's password is correct\n",
    "        #If not : the encrypted message will be returned\n",
    "        first_char = [i[0] for i in x.split(' ')] #get the first letter of the word in a list\n",
    "        remaining_char = [i[1:(len(i))] for i in x.split(' ')] #get the remaining_char\n",
    "        reverse = [i[::-1] for i in remaining_char] #get the inverse of the remaining char\n",
    "        encode = [(reverse[i] + 'wp' + first_char[i]) for i in range(len(first_char))] #put everything together\n",
    "        return ' '.join(encode)\n",
    "    Encrypt('i am trying to encode this text')    \n",
    "        \n",
    "    def recipient(self, msg_recipient):\n",
    "        #barky.theonlybuddy=zippy\n",
    "        self.recipient = msg_recipient           \n",
    "\n",
    "    def my_msg(self, recipient):\n",
    "        x = input('what is your message: ')\n",
    "        self.sent_messages.append(x)\n",
    "# https://user.fm/files/v2-9a642d60c5974ce321842d914d46bace/crypto.txt\n",
    "        recipient.recieved_messages.append(x)\n",
    "        \n",
    "# this saves the list to an online file  \n",
    "        \n",
    "        \n",
    "        \n",
    "    "
   ]
  },
  {
   "cell_type": "code",
   "execution_count": 12,
   "metadata": {},
   "outputs": [
    {
     "name": "stdout",
     "output_type": "stream",
     "text": [
      "what is your username: Lukas\n",
      "what is your password: 1234\n"
     ]
    }
   ],
   "source": [
    "user1 = CryptoMsg('Lukas')\n"
   ]
  },
  {
   "cell_type": "code",
   "execution_count": 4,
   "metadata": {},
   "outputs": [
    {
     "name": "stdout",
     "output_type": "stream",
     "text": [
      "what is your username: secret reciever\n",
      "what is your password: 5678\n"
     ]
    }
   ],
   "source": [
    "user2 = CryptoMsg('elise')"
   ]
  },
  {
   "cell_type": "code",
   "execution_count": 14,
   "metadata": {},
   "outputs": [
    {
     "name": "stdout",
     "output_type": "stream",
     "text": [
      "what is your message: hello elise\n"
     ]
    }
   ],
   "source": [
    "user1.my_msg(user2)\n"
   ]
  },
  {
   "cell_type": "code",
   "execution_count": 15,
   "metadata": {},
   "outputs": [
    {
     "data": {
      "text/plain": [
       "['hello elise']"
      ]
     },
     "execution_count": 15,
     "metadata": {},
     "output_type": "execute_result"
    }
   ],
   "source": [
    "user2.recieved_messages"
   ]
  },
  {
   "cell_type": "code",
   "execution_count": null,
   "metadata": {},
   "outputs": [],
   "source": [
    "C:/Documents/folder/user1/messages.txt\n",
    "C:/Documents/folder/user2/messages.txt\n"
   ]
  },
  {
   "cell_type": "code",
   "execution_count": null,
   "metadata": {},
   "outputs": [],
   "source": []
  },
  {
   "cell_type": "code",
   "execution_count": null,
   "metadata": {},
   "outputs": [],
   "source": []
  },
  {
   "cell_type": "code",
   "execution_count": 8,
   "metadata": {},
   "outputs": [],
   "source": [
    "def Encrypt(message) :\n",
    "    key = Fernet(Fernet.generate_key()) #generate a key\n",
    "    encode_msg = message.encode() #encode a message\n",
    "    encrypted = key.encrypt(encode_msg) #encrypt the message with the key\n",
    "    return encrypted"
   ]
  },
  {
   "cell_type": "code",
   "execution_count": 40,
   "metadata": {},
   "outputs": [],
   "source": [
    "from cryptography.fernet import Fernet\n"
   ]
  },
  {
   "cell_type": "code",
   "execution_count": 52,
   "metadata": {},
   "outputs": [],
   "source": [
    "x = 'hello world'\n",
    "#K is now a global variable - it allows us to pass the value through the functions\n",
    "k = Fernet(Fernet.generate_key()) #generate a key\n",
    "def Encrypt(message) :\n",
    "    encode_msg = message.encode() #encode a message\n",
    "    encrypted = k.encrypt(encode_msg) #encrypt the message with the key\n",
    "    return encrypted\n",
    "def Decrypt(encrypted) :\n",
    "    encrypted = Encrypt(message) #get the return value of the Encrypt function\n",
    "    decrypted = k.decrypt(encrypted)\n",
    "    return decrypted\n"
   ]
  },
  {
   "cell_type": "code",
   "execution_count": 55,
   "metadata": {},
   "outputs": [
    {
     "data": {
      "text/plain": [
       "<cryptography.fernet.Fernet at 0x5aee1b0>"
      ]
     },
     "execution_count": 55,
     "metadata": {},
     "output_type": "execute_result"
    }
   ],
   "source": [
    "y = Encrypt(x)\n",
    "k"
   ]
  },
  {
   "cell_type": "code",
   "execution_count": 54,
   "metadata": {},
   "outputs": [
    {
     "data": {
      "text/plain": [
       "b'hello world'"
      ]
     },
     "execution_count": 54,
     "metadata": {},
     "output_type": "execute_result"
    }
   ],
   "source": [
    "Decrypt(y)"
   ]
  },
  {
   "cell_type": "code",
   "execution_count": 1,
   "metadata": {},
   "outputs": [],
   "source": [
    "class Dog:\n",
    "    \n",
    "    #global value for all the objects of this class that doesn't change\n",
    "    number_of_legs=4\n",
    "    species='mammals'\n",
    "    level_of_danger=1\n",
    "    \n",
    "    def __init__(self,name,age,lod=level_of_danger):\n",
    "        self.name=name\n",
    "        self.age=age\n",
    "        self.enemies=list()\n",
    "        self.fights=dict()\n",
    "        self.level_of_danger_current=lod\n",
    "        self.level_of_danger_default=lod\n",
    "    \n",
    "    def voice(self):\n",
    "        print('Bark! Bark!')\n",
    "        \n",
    "    def birthday(self):\n",
    "        self.age+=1\n",
    "        print(f'Happy birthday {self.name}. You are {self.age} now!')\n",
    "        \n",
    "    def set_buddy(self, buddy):\n",
    "        #barky.theonlybuddy=zippy\n",
    "        self.theonlybuddy=buddy\n",
    "        #zippy.theonlybuddy=barky\n",
    "        buddy.theonlybuddy=self\n",
    "        \n",
    "    def fight_club(self, enemy):\n",
    "        if self.number_of_legs==0:\n",
    "            return f\"Desole! {self.name} can't even move. If you want to continue participating in our fight club, you can buy a new dog in our online shop \"\n",
    "        \n",
    "        elif enemy in self.enemies:\n",
    "            self.fights[enemy]+=1\n",
    "            enemy.fights[self]+=1\n",
    "            \n",
    "            if self.level_of_danger_current>enemy.level_of_danger_current*2:\n",
    "                enemy.chop_leg()\n",
    "            elif enemy.level_of_danger_current>self.level_of_danger_current*2:\n",
    "                self.chop_leg()\n",
    "            self.level_of_danger_current=self.level_of_danger_default+sum(self.fights.values())//2\n",
    "            enemy.level_of_danger_current=enemy.level_of_danger_default+sum(enemy.fights.values())//2\n",
    "            if self.level_of_danger_current>8:\n",
    "                self.chop_leg()\n",
    "                self.level_of_danger_current=5\n",
    "\n",
    "            print('Gosh! He is doing it again!')\n",
    "            \n",
    "            \n",
    "        else:\n",
    "            self.enemies.append(enemy)\n",
    "            enemy.enemies.append(self)\n",
    "            self.fights[enemy]=1\n",
    "            enemy.fights[self]=1\n",
    "            if self.level_of_danger_current>enemy.level_of_danger_current*2:\n",
    "                enemy.chop_leg()\n",
    "            elif enemy.level_of_danger_current>self.level_of_danger_current*2:\n",
    "                self.chop_leg()\n",
    "    \n",
    "    def chop_leg(self):\n",
    "        self.number_of_legs=max(0,self.number_of_legs-1)\n",
    "        "
   ]
  },
  {
   "cell_type": "code",
   "execution_count": null,
   "metadata": {},
   "outputs": [],
   "source": []
  },
  {
   "cell_type": "code",
   "execution_count": 8,
   "metadata": {},
   "outputs": [],
   "source": [
    "barky = Dog('Barky',2)"
   ]
  },
  {
   "cell_type": "code",
   "execution_count": 9,
   "metadata": {},
   "outputs": [],
   "source": [
    "zippy = Dog('Zippy', 3)"
   ]
  },
  {
   "cell_type": "code",
   "execution_count": 11,
   "metadata": {},
   "outputs": [],
   "source": [
    "barky.set_buddy(zippy)"
   ]
  },
  {
   "cell_type": "code",
   "execution_count": 16,
   "metadata": {},
   "outputs": [
    {
     "data": {
      "text/plain": [
       "'Zippy'"
      ]
     },
     "execution_count": 16,
     "metadata": {},
     "output_type": "execute_result"
    }
   ],
   "source": [
    "barky.theonlybuddy.name"
   ]
  },
  {
   "cell_type": "code",
   "execution_count": 58,
   "metadata": {},
   "outputs": [
    {
     "ename": "TypeError",
     "evalue": "'Dog' object is not callable",
     "output_type": "error",
     "traceback": [
      "\u001b[1;31m---------------------------------------------------------------------------\u001b[0m",
      "\u001b[1;31mTypeError\u001b[0m                                 Traceback (most recent call last)",
      "\u001b[1;32m<ipython-input-58-a807b7f3802b>\u001b[0m in \u001b[0;36m<module>\u001b[1;34m\u001b[0m\n\u001b[1;32m----> 1\u001b[1;33m \u001b[0mBarky\u001b[0m\u001b[1;33m.\u001b[0m\u001b[0mtheonlybuddy\u001b[0m\u001b[1;33m(\u001b[0m\u001b[1;33m)\u001b[0m\u001b[1;33m\u001b[0m\u001b[1;33m\u001b[0m\u001b[0m\n\u001b[0m",
      "\u001b[1;31mTypeError\u001b[0m: 'Dog' object is not callable"
     ]
    }
   ],
   "source": [
    "Barky.theonlybuddy(\n",
    "barky.set_buddy(zippy))"
   ]
  },
  {
   "cell_type": "code",
   "execution_count": 67,
   "metadata": {},
   "outputs": [
    {
     "data": {
      "text/plain": [
       "['h', 'I', 'a', 'l']"
      ]
     },
     "execution_count": 67,
     "metadata": {},
     "output_type": "execute_result"
    }
   ],
   "source": [
    "x = 'hello I am lukas'\n",
    "\n",
    "[i[0] for i in x.split(' ')]\n",
    "        \n",
    "    "
   ]
  },
  {
   "cell_type": "code",
   "execution_count": 18,
   "metadata": {},
   "outputs": [
    {
     "data": {
      "text/plain": [
       "'histay siay ymay ewnay entencesay'"
      ]
     },
     "execution_count": 18,
     "metadata": {},
     "output_type": "execute_result"
    }
   ],
   "source": [
    "def Encrypt(x) :\n",
    "    first_letter = [i[0] for i in x.split(' ')] #get the first letter of the word in a list\n",
    "    reverse_word = [i[1:(len(i))] for i in x.split(' ')] #get the reverse of the end of the word in a list\n",
    "    encode = [(reverse_word[i] + first_letter[i] + 'ay') for i in range(len(first_letter))] #put everything together\n",
    "    return ' '.join(encode)\n",
    "Encrypt('this is my new sentence')"
   ]
  },
  {
   "cell_type": "code",
   "execution_count": 10,
   "metadata": {},
   "outputs": [
    {
     "data": {
      "text/plain": [
       "['ool', 'nd', 'ool']"
      ]
     },
     "execution_count": 10,
     "metadata": {},
     "output_type": "execute_result"
    }
   ],
   "source": []
  },
  {
   "cell_type": "code",
   "execution_count": 17,
   "metadata": {},
   "outputs": [
    {
     "name": "stdout",
     "output_type": "stream",
     "text": [
      "········\n",
      "Password entered: winner\n"
     ]
    }
   ],
   "source": [
    "import getpass \n",
    "  \n",
    "try: \n",
    "    p = getpass.getpass() \n",
    "except Exception as error: \n",
    "    print('ERROR', error) \n",
    "else: \n",
    "    print('Password entered:', p) "
   ]
  },
  {
   "cell_type": "code",
   "execution_count": 16,
   "metadata": {},
   "outputs": [
    {
     "data": {
      "text/plain": [
       "'wpi mwpa gniyrwpt owpt edocnwpe sihwpt txewpt'"
      ]
     },
     "execution_count": 16,
     "metadata": {},
     "output_type": "execute_result"
    }
   ],
   "source": [
    "def Encrypt(x) :\n",
    "    #Idea : put a condition - the function will run if the user's password is correct\n",
    "    #If not : the encrypted message will be returned\n",
    "    first_char = [i[0] for i in x.split(' ')] #get the first letter of the word in a list\n",
    "    remaining_char = [i[1:(len(i))] for i in x.split(' ')] #get the remaining_char\n",
    "    reverse = [i[::-1] for i in remaining_char] #get the inverse of the remaining char\n",
    "    encode = [(reverse[i] + 'wp' + first_char[i]) for i in range(len(first_char))] #put everything together\n",
    "    return ' '.join(encode)\n",
    "Encrypt('i am trying to encode this text')"
   ]
  },
  {
   "cell_type": "code",
   "execution_count": null,
   "metadata": {},
   "outputs": [],
   "source": []
  }
 ],
 "metadata": {
  "kernelspec": {
   "display_name": "Python 3",
   "language": "python",
   "name": "python3"
  },
  "language_info": {
   "codemirror_mode": {
    "name": "ipython",
    "version": 3
   },
   "file_extension": ".py",
   "mimetype": "text/x-python",
   "name": "python",
   "nbconvert_exporter": "python",
   "pygments_lexer": "ipython3",
   "version": "3.7.4"
  }
 },
 "nbformat": 4,
 "nbformat_minor": 4
}
