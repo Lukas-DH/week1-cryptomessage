{
 "cells": [
  {
   "cell_type": "code",
   "execution_count": 3,
   "metadata": {},
   "outputs": [],
   "source": [
    "def sender():\n",
    "        s_user = input('What is your username: ')\n",
    "        return s_user\n",
    "def recipient() :\n",
    "        r_user = input('What is your username : ')\n",
    "        return r_user\n",
    "def key():\n",
    "        key = input('What is your password: ')\n",
    "        return key\n",
    "def my_msg() :\n",
    "        message = input('what is your message: ')\n",
    "        return message\n",
    "def Encrypt() :\n",
    "        x = my_msg()\n",
    "        first_char = [i[0] for i in x.split(' ')] #get the first letter of the word in a list\n",
    "        remaining_char = [i[1:(len(i))] for i in x.split(' ')] #get the remaining_char\n",
    "        reverse = [i[::-1] for i in remaining_char] #get the inverse of the remaining char\n",
    "        encode = [(reverse[i] + '1wp0' + first_char[i]) for i in range(len(first_char))]#put everything together\n",
    "        encrypted = ' '.join(encode)\n",
    "        return encrypted\n",
    "def Decrypt() :\n",
    "        y = Encrypt() #get the return value of the Encrypt function\n",
    "        ls = y.replace('wp', '').split(' ')\n",
    "        last_letter = [i[len(i)-1] for i in ls]\n",
    "        decrypted = [i[::-1] for i in ls]\n",
    "        return decrypted\n",
    "def message():\n",
    "    pass"
   ]
  },
  {
   "cell_type": "code",
   "execution_count": null,
   "metadata": {},
   "outputs": [],
   "source": []
  },
  {
   "cell_type": "code",
   "execution_count": null,
   "metadata": {},
   "outputs": [],
   "source": []
  }
 ],
 "metadata": {
  "kernelspec": {
   "display_name": "Python 3",
   "language": "python",
   "name": "python3"
  },
  "language_info": {
   "codemirror_mode": {
    "name": "ipython",
    "version": 3
   },
   "file_extension": ".py",
   "mimetype": "text/x-python",
   "name": "python",
   "nbconvert_exporter": "python",
   "pygments_lexer": "ipython3",
   "version": "3.7.4"
  }
 },
 "nbformat": 4,
 "nbformat_minor": 4
}
