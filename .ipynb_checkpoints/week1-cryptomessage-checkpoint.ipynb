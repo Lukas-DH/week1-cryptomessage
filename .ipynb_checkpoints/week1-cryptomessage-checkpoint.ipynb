{
 "cells": [
  {
   "cell_type": "code",
   "execution_count": null,
   "metadata": {},
   "outputs": [],
   "source": [
    "import cryptography"
   ]
  },
  {
   "cell_type": "code",
   "execution_count": 16,
   "metadata": {},
   "outputs": [
    {
     "ename": "SyntaxError",
     "evalue": "invalid syntax (<ipython-input-16-54679f1f4fc7>, line 46)",
     "output_type": "error",
     "traceback": [
      "\u001b[1;36m  File \u001b[1;32m\"<ipython-input-16-54679f1f4fc7>\"\u001b[1;36m, line \u001b[1;32m46\u001b[0m\n\u001b[1;33m    def read_my_msg(self.recieved_messages):\u001b[0m\n\u001b[1;37m                        ^\u001b[0m\n\u001b[1;31mSyntaxError\u001b[0m\u001b[1;31m:\u001b[0m invalid syntax\n"
     ]
    }
   ],
   "source": [
    "class CryptoMsg:\n",
    "           \n",
    "    def __init__(self , name, username = 'user', password = '1234'):\n",
    "        \n",
    "        self.name = name #chatter name\n",
    "        self.sent_messages = [] #sender message lists\n",
    "        self.recieved_messages = [] #recieved messages\n",
    "        self.set_username() #encryption access username\n",
    "        self.set_password() #encryption access password\n",
    "        \n",
    "    def set_username(self):\n",
    "        #seting the user name\n",
    "        self.username = input('what is your username: ')\n",
    "            \n",
    "    def set_password(self):\n",
    "        #setting the password\n",
    "        self.password = input('what is your password: ')  \n",
    "      \n",
    "    def recipient(self, msg_recipient):\n",
    "        #intended msg recipient\n",
    "        self.recipient = msg_recipient\n",
    "    \n",
    "    def Encrypt(self, x) :\n",
    "        #encrypts the my_msg input\n",
    "        self.x = x\n",
    "        first_char = [i[0] for i in x.split(' ')] #get the first letter of the word in a list\n",
    "        remaining_char = [i[1:(len(i))] for i in x.split(' ')] #get the remaining_char\n",
    "        reverse = [i[::-1] for i in remaining_char] #get the inverse of the remaining char\n",
    "        encode = [(reverse[i] + 'wp' + first_char[i]) for i in range(len(first_char))] #put everything together\n",
    "        return ' '.join(encode)\n",
    "    \n",
    "    def Decrypt(self, y):\n",
    "        self.y = y\n",
    "        ls = y.replace('wp', '').split(' ')\n",
    "        last_letter = [i[len(i)-1] for i in ls]\n",
    "        decode = [i[::-1] for i in ls]\n",
    "        return ' '.join(decode)\n",
    "\n",
    "    def my_msg(self, recipient):\n",
    "        #intended msg and to which recipient it goes\n",
    "        x = input('what is your message: ')\n",
    "        x = self.Encrypt(x)\n",
    "        self.sent_messages.append(x)\n",
    "        recipient.recieved_messages.append(x)\n",
    "        \n",
    "    def read_my_msg(self.recieved_messages):\n",
    "        if input('please enter your password') == self.password:\n",
    "            print('Correct!, here are your secrets')\n",
    "            print(Decrypt())\n",
    "             "
   ]
  },
  {
   "cell_type": "code",
   "execution_count": 15,
   "metadata": {},
   "outputs": [
    {
     "name": "stdout",
     "output_type": "stream",
     "text": [
      "please enter your password1234\n",
      "Correct!, here are your secrets\n"
     ]
    },
    {
     "ename": "NameError",
     "evalue": "name 'Decrypt' is not defined",
     "output_type": "error",
     "traceback": [
      "\u001b[1;31m---------------------------------------------------------------------------\u001b[0m",
      "\u001b[1;31mNameError\u001b[0m                                 Traceback (most recent call last)",
      "\u001b[1;32m<ipython-input-15-a190751ddc3d>\u001b[0m in \u001b[0;36m<module>\u001b[1;34m\u001b[0m\n\u001b[1;32m----> 1\u001b[1;33m \u001b[0muser2\u001b[0m\u001b[1;33m.\u001b[0m\u001b[0mread_my_msg\u001b[0m\u001b[1;33m(\u001b[0m\u001b[1;33m)\u001b[0m\u001b[1;33m\u001b[0m\u001b[1;33m\u001b[0m\u001b[0m\n\u001b[0m",
      "\u001b[1;32m<ipython-input-11-1f2a18c2d49f>\u001b[0m in \u001b[0;36mread_my_msg\u001b[1;34m(self)\u001b[0m\n\u001b[0;32m     47\u001b[0m         \u001b[1;32mif\u001b[0m \u001b[0minput\u001b[0m\u001b[1;33m(\u001b[0m\u001b[1;34m'please enter your password'\u001b[0m\u001b[1;33m)\u001b[0m \u001b[1;33m==\u001b[0m \u001b[0mself\u001b[0m\u001b[1;33m.\u001b[0m\u001b[0mpassword\u001b[0m\u001b[1;33m:\u001b[0m\u001b[1;33m\u001b[0m\u001b[1;33m\u001b[0m\u001b[0m\n\u001b[0;32m     48\u001b[0m             \u001b[0mprint\u001b[0m\u001b[1;33m(\u001b[0m\u001b[1;34m'Correct!, here are your secrets'\u001b[0m\u001b[1;33m)\u001b[0m\u001b[1;33m\u001b[0m\u001b[1;33m\u001b[0m\u001b[0m\n\u001b[1;32m---> 49\u001b[1;33m             \u001b[0mprint\u001b[0m\u001b[1;33m(\u001b[0m\u001b[0mDecrypt\u001b[0m\u001b[1;33m(\u001b[0m\u001b[0mself\u001b[0m\u001b[1;33m.\u001b[0m\u001b[0mrecieved_messages\u001b[0m\u001b[1;33m)\u001b[0m\u001b[1;33m)\u001b[0m\u001b[1;33m\u001b[0m\u001b[1;33m\u001b[0m\u001b[0m\n\u001b[0m\u001b[0;32m     50\u001b[0m \u001b[1;33m\u001b[0m\u001b[0m\n",
      "\u001b[1;31mNameError\u001b[0m: name 'Decrypt' is not defined"
     ]
    }
   ],
   "source": [
    "user2.read_my_msg()"
   ]
  },
  {
   "cell_type": "code",
   "execution_count": 2,
   "metadata": {},
   "outputs": [
    {
     "name": "stdout",
     "output_type": "stream",
     "text": [
      "what is your username: l\n",
      "what is your password: 1234\n"
     ]
    }
   ],
   "source": [
    "user1 = CryptoMsg('Lukas')\n"
   ]
  },
  {
   "cell_type": "code",
   "execution_count": 13,
   "metadata": {},
   "outputs": [
    {
     "name": "stdout",
     "output_type": "stream",
     "text": [
      "what is your username: e\n",
      "what is your password: 1234\n"
     ]
    }
   ],
   "source": [
    "user2 = CryptoMsg('elise')"
   ]
  },
  {
   "cell_type": "code",
   "execution_count": 4,
   "metadata": {},
   "outputs": [
    {
     "name": "stdout",
     "output_type": "stream",
     "text": [
      "what is your message: hey its my message\n"
     ]
    }
   ],
   "source": [
    "user1.my_msg(user2)"
   ]
  },
  {
   "cell_type": "code",
   "execution_count": 5,
   "metadata": {},
   "outputs": [
    {
     "data": {
      "text/plain": [
       "['yewph stwpi ywpm egassewpm']"
      ]
     },
     "execution_count": 5,
     "metadata": {},
     "output_type": "execute_result"
    }
   ],
   "source": [
    "user2.recieved_messages"
   ]
  },
  {
   "cell_type": "code",
   "execution_count": null,
   "metadata": {},
   "outputs": [],
   "source": []
  },
  {
   "cell_type": "code",
   "execution_count": null,
   "metadata": {},
   "outputs": [],
   "source": [
    "def Encrypt(x) :\n",
    "    #encrypts the my_msg input\n",
    "    first_char = [i[0] for i in x.split(' ')] #get the first letter of the word in a list\n",
    "    remaining_char = [i[1:(len(i))] for i in x.split(' ')] #get the remaining_char\n",
    "    reverse = [i[::-1] for i in remaining_char] #get the inverse of the remaining char\n",
    "    encode = [(reverse[i] + 'wp' + first_char[i]) for i in range(len(first_char))] #put everything together\n",
    "    return ' '.join(encode)\n",
    "\n"
   ]
  },
  {
   "cell_type": "code",
   "execution_count": null,
   "metadata": {},
   "outputs": [],
   "source": [
    "x = \"whats the name?\"\n",
    "y = Encrypt(x)\n",
    "y"
   ]
  },
  {
   "cell_type": "code",
   "execution_count": null,
   "metadata": {},
   "outputs": [],
   "source": [
    "def Decrypt(y):\n",
    "    ls = y.replace('wp', '').split(' ')\n",
    "    last_letter = [i[len(i)-1] for i in ls]\n",
    "    decode = [i[::-1] for i in ls]\n",
    "    return ' '.join(decode)\n"
   ]
  },
  {
   "cell_type": "code",
   "execution_count": null,
   "metadata": {},
   "outputs": [],
   "source": [
    "Decrypt(y)"
   ]
  },
  {
   "cell_type": "code",
   "execution_count": null,
   "metadata": {},
   "outputs": [],
   "source": [
    "class Dog:\n",
    "    \n",
    "    #global value for all the objects of this class that doesn't change\n",
    "    number_of_legs=4\n",
    "    species='mammals'\n",
    "    level_of_danger=1\n",
    "    \n",
    "    def __init__(self,name,age,lod=level_of_danger):\n",
    "        self.name=name\n",
    "        self.age=age\n",
    "        self.enemies=list()\n",
    "        self.fights=dict()\n",
    "        self.level_of_danger_current=lod\n",
    "        self.level_of_danger_default=lod\n",
    "    \n",
    "    def voice(self):\n",
    "        print('Bark! Bark!')\n",
    "        \n",
    "    def birthday(self):\n",
    "        self.age+=1\n",
    "        print(f'Happy birthday {self.name}. You are {self.age} now!')\n",
    "        \n",
    "    def set_buddy(self, buddy):\n",
    "        #barky.theonlybuddy=zippy\n",
    "        self.theonlybuddy=buddy\n",
    "        #zippy.theonlybuddy=barky\n",
    "        buddy.theonlybuddy=self\n",
    "        \n",
    "    def fight_club(self, enemy):\n",
    "        if self.number_of_legs==0:\n",
    "            return f\"Desole! {self.name} can't even move. If you want to continue participating in our fight club, you can buy a new dog in our online shop \"\n",
    "        \n",
    "        elif enemy in self.enemies:\n",
    "            self.fights[enemy]+=1\n",
    "            enemy.fights[self]+=1\n",
    "            \n",
    "            if self.level_of_danger_current>enemy.level_of_danger_current*2:\n",
    "                enemy.chop_leg()\n",
    "            elif enemy.level_of_danger_current>self.level_of_danger_current*2:\n",
    "                self.chop_leg()\n",
    "            self.level_of_danger_current=self.level_of_danger_default+sum(self.fights.values())//2\n",
    "            enemy.level_of_danger_current=enemy.level_of_danger_default+sum(enemy.fights.values())//2\n",
    "            if self.level_of_danger_current>8:\n",
    "                self.chop_leg()\n",
    "                self.level_of_danger_current=5\n",
    "\n",
    "            print('Gosh! He is doing it again!')\n",
    "            \n",
    "            \n",
    "        else:\n",
    "            self.enemies.append(enemy)\n",
    "            enemy.enemies.append(self)\n",
    "            self.fights[enemy]=1\n",
    "            enemy.fights[self]=1\n",
    "            if self.level_of_danger_current>enemy.level_of_danger_current*2:\n",
    "                enemy.chop_leg()\n",
    "            elif enemy.level_of_danger_current>self.level_of_danger_current*2:\n",
    "                self.chop_leg()\n",
    "    \n",
    "    def chop_leg(self):\n",
    "        self.number_of_legs=max(0,self.number_of_legs-1)\n",
    "        "
   ]
  },
  {
   "cell_type": "code",
   "execution_count": null,
   "metadata": {},
   "outputs": [],
   "source": []
  },
  {
   "cell_type": "code",
   "execution_count": null,
   "metadata": {},
   "outputs": [],
   "source": [
    "barky = Dog('Barky',2)"
   ]
  },
  {
   "cell_type": "code",
   "execution_count": null,
   "metadata": {},
   "outputs": [],
   "source": [
    "zippy = Dog('Zippy', 3)"
   ]
  },
  {
   "cell_type": "code",
   "execution_count": null,
   "metadata": {},
   "outputs": [],
   "source": [
    "barky.set_buddy(zippy)"
   ]
  },
  {
   "cell_type": "code",
   "execution_count": null,
   "metadata": {},
   "outputs": [],
   "source": [
    "barky.theonlybuddy.name"
   ]
  },
  {
   "cell_type": "code",
   "execution_count": null,
   "metadata": {},
   "outputs": [],
   "source": [
    "Barky.theonlybuddy(\n",
    "barky.set_buddy(zippy))"
   ]
  },
  {
   "cell_type": "code",
   "execution_count": null,
   "metadata": {},
   "outputs": [],
   "source": [
    "x = 'hello I am lukas'\n",
    "\n",
    "[i[0] for i in x.split(' ')]\n",
    "        \n",
    "    "
   ]
  },
  {
   "cell_type": "code",
   "execution_count": null,
   "metadata": {},
   "outputs": [],
   "source": [
    "def Encrypt(x) :\n",
    "    first_letter = [i[0] for i in x.split(' ')] #get the first letter of the word in a list\n",
    "    reverse_word = [i[1:(len(i))] for i in x.split(' ')] #get the reverse of the end of the word in a list\n",
    "    encode = [(reverse_word[i] + first_letter[i] + 'ay') for i in range(len(first_letter))] #put everything together\n",
    "    return ' '.join(encode)\n",
    "Encrypt('this is my new sentence')"
   ]
  },
  {
   "cell_type": "code",
   "execution_count": null,
   "metadata": {},
   "outputs": [],
   "source": []
  },
  {
   "cell_type": "code",
   "execution_count": null,
   "metadata": {},
   "outputs": [],
   "source": [
    "import getpass \n",
    "  \n",
    "try: \n",
    "    p = getpass.getpass() \n",
    "except Exception as error: \n",
    "    print('ERROR', error) \n",
    "else: \n",
    "    print('Password entered:', p) "
   ]
  },
  {
   "cell_type": "code",
   "execution_count": null,
   "metadata": {},
   "outputs": [],
   "source": [
    "def Encrypt(x) :\n",
    "    #Idea : put a condition - the function will run if the user's password is correct\n",
    "    #If not : the encrypted message will be returned\n",
    "    first_char = [i[0] for i in x.split(' ')] #get the first letter of the word in a list\n",
    "    remaining_char = [i[1:(len(i))] for i in x.split(' ')] #get the remaining_char\n",
    "    reverse = [i[::-1] for i in remaining_char] #get the inverse of the remaining char\n",
    "    encode = [(reverse[i] + 'wp' + first_char[i]) for i in range(len(first_char))] #put everything together\n",
    "    return ' '.join(encode)\n",
    "Encrypt('i am trying to encode this text')"
   ]
  },
  {
   "cell_type": "code",
   "execution_count": null,
   "metadata": {},
   "outputs": [],
   "source": [
    "def Decrypt(y):\n",
    "    ls = y.replace('wp', '').split(' ')\n",
    "    last_letter = [i[len(i)-1] for i in ls]\n",
    "    decode = [i[::-1] for i in ls]\n",
    "    return ' '.join(decode)\n",
    "Decrypt('wpi mwpa gniyrwpt owpt edocnwpe sihwpt txewpt')"
   ]
  },
  {
   "cell_type": "code",
   "execution_count": null,
   "metadata": {},
   "outputs": [],
   "source": []
  }
 ],
 "metadata": {
  "kernelspec": {
   "display_name": "Python 3",
   "language": "python",
   "name": "python3"
  },
  "language_info": {
   "codemirror_mode": {
    "name": "ipython",
    "version": 3
   },
   "file_extension": ".py",
   "mimetype": "text/x-python",
   "name": "python",
   "nbconvert_exporter": "python",
   "pygments_lexer": "ipython3",
   "version": "3.7.4"
  }
 },
 "nbformat": 4,
 "nbformat_minor": 4
}
