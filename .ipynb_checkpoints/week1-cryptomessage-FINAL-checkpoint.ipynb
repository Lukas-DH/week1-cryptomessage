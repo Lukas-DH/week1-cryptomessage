{
 "cells": [
  {
   "cell_type": "code",
   "execution_count": null,
   "metadata": {},
   "outputs": [],
   "source": [
    "import getpass\n",
    "\n",
    "class CryptoMsg:\n",
    "           \n",
    "    def __init__(self , username = 'user', password = '1234'):\n",
    "        \n",
    "        \n",
    "        self.sent_messages = [] #sender message lists\n",
    "        self.recieved_messages = [] #recieved messages\n",
    "        self.set_username() #encryption access username\n",
    "        self.set_password() #encryption access password\n",
    "        \n",
    "    def set_username(self):\n",
    "        #seting the user name\n",
    "        self.username = input('what is your username: ')\n",
    "            \n",
    "    def set_password(self):\n",
    "        #setting the password\n",
    "        self.password = getpass.getpass('Password :: ') \n",
    "        \n",
    "    def Encrypt(self, x) :\n",
    "        #encrypts the my_msg input\n",
    "        self.x = x\n",
    "        first_char = [i[0] for i in x.split(' ')] #get the first letter of the word in a list\n",
    "        remaining_char = [i[1:(len(i))] for i in x.split(' ')] #get the remaining_char\n",
    "        reverse = [i[::-1] for i in remaining_char] #get the inverse of the remaining char\n",
    "        encode = [(reverse[i] + 'wp' + first_char[i]) for i in range(len(first_char))] #put everything together\n",
    "        return ' '.join(encode)\n",
    "    \n",
    "    def Decrypt(self, y):\n",
    "        self.y = y\n",
    "        ls = y.replace('wp', '').split(' ')\n",
    "        last_letter = [i[len(i)-1] for i in ls]\n",
    "        decode = [i[::-1] for i in ls]\n",
    "        return ' '.join(decode)\n",
    "\n",
    "    def recipient(self, msg_recipient):\n",
    "        #barky.theonlybuddy=zippy\n",
    "        self.recipient = msg_recipient\n",
    "\n",
    "    def my_msg(self, recipient):\n",
    "        #intended msg and to which recipient it goes\n",
    "        print(f'Hello {self.username}, please enter your secret message to {recipient.username} below')\n",
    "        x = getpass.getpass(f'{self.username} ==> {recipient.username}:') + '\\n' + f'{self.username}'\n",
    "#         x = self.Encrypt(x)\n",
    "        self.sent_messages.append(self.Encrypt(x))\n",
    "        recipient.recieved_messages.append(self.Encrypt(x))\n",
    "        print(f'your message has been encrypted \\n {self.Encrypt(x)}')\n",
    "        \n",
    "        \n",
    "    def read_my_msg(self):\n",
    "        if getpass.getpass(f'Hello {self.username}, please enter your password') == self.password:\n",
    "            print(f'Hi {self.username}!, you have {len(self.recieved_messages)} secret message(s)')\n",
    "#             print(\"You have\", {len(self.recieved_messages)}, \"message(s)\")\n",
    "            count = 1\n",
    "            for i in self.recieved_messages :\n",
    "                print(f'message {count} is: ')\n",
    "                count += 1\n",
    "                print(self.Decrypt(i))\n",
    "            return \n",
    "            \n",
    "        else:\n",
    "            print(\"\"\"WARNING, WARNING!!!\n",
    "                    intruder alert! intruder alert\"\"\" )\n",
    "            "
   ]
  },
  {
   "cell_type": "code",
   "execution_count": null,
   "metadata": {},
   "outputs": [],
   "source": [
    "user1 = CryptoMsg()\n"
   ]
  },
  {
   "cell_type": "code",
   "execution_count": null,
   "metadata": {},
   "outputs": [],
   "source": [
    "user2 = CryptoMsg()"
   ]
  },
  {
   "cell_type": "code",
   "execution_count": null,
   "metadata": {},
   "outputs": [],
   "source": [
    "user1.my_msg(user2)"
   ]
  },
  {
   "cell_type": "code",
   "execution_count": null,
   "metadata": {},
   "outputs": [],
   "source": [
    "user2.read_my_msg()"
   ]
  },
  {
   "cell_type": "code",
   "execution_count": null,
   "metadata": {},
   "outputs": [],
   "source": []
  }
 ],
 "metadata": {
  "kernelspec": {
   "display_name": "Python 3",
   "language": "python",
   "name": "python3"
  },
  "language_info": {
   "codemirror_mode": {
    "name": "ipython",
    "version": 3
   },
   "file_extension": ".py",
   "mimetype": "text/x-python",
   "name": "python",
   "nbconvert_exporter": "python",
   "pygments_lexer": "ipython3",
   "version": "3.7.4"
  }
 },
 "nbformat": 4,
 "nbformat_minor": 4
}
